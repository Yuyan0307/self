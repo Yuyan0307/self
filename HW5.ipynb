{
  "cells": [
    {
      "cell_type": "markdown",
      "metadata": {
        "id": "view-in-github",
        "colab_type": "text"
      },
      "source": [
        "<a href=\"https://colab.research.google.com/github/einsteinpan/self/blob/main/HW5.ipynb\" target=\"_parent\"><img src=\"https://colab.research.google.com/assets/colab-badge.svg\" alt=\"Open In Colab\"/></a>"
      ]
    },
    {
      "cell_type": "code",
      "execution_count": null,
      "metadata": {
        "id": "XEhVbuZvfA9t",
        "outputId": "b2b6e7d7-7b97-4264-bd1c-ec1d6a13528d",
        "colab": {
          "base_uri": "https://localhost:8080/"
        }
      },
      "outputs": [
        {
          "output_type": "stream",
          "name": "stdout",
          "text": [
            "--2022-10-12 09:20:15--  https://www.dropbox.com/s/2sbmj1vpw7hesa7/case_info.csv\n",
            "Resolving www.dropbox.com (www.dropbox.com)... 162.125.6.18, 2620:100:6019:18::a27d:412\n",
            "Connecting to www.dropbox.com (www.dropbox.com)|162.125.6.18|:443... connected.\n",
            "HTTP request sent, awaiting response... 302 Found\n",
            "Location: /s/raw/2sbmj1vpw7hesa7/case_info.csv [following]\n",
            "--2022-10-12 09:20:16--  https://www.dropbox.com/s/raw/2sbmj1vpw7hesa7/case_info.csv\n",
            "Reusing existing connection to www.dropbox.com:443.\n",
            "HTTP request sent, awaiting response... 302 Found\n",
            "Location: https://uca11b55c43709e412f819541164.dl.dropboxusercontent.com/cd/0/inline/BurAhe5QXxTjAYjuJLxtJP37pnCkz92aDrhPEnq-XFu8QVQoNdzL5HAIBkgx0tetHVRbNqK1SCePr0PFRFx7MSgE8EsGxvHwSwD9xr4q1XG5lYiyYWa6osSh8TyMIdE_31Ogh04fTvi15NX_hu2tipWxO-ypSwLeX_SRsDl9c0Q-JQ/file# [following]\n",
            "--2022-10-12 09:20:16--  https://uca11b55c43709e412f819541164.dl.dropboxusercontent.com/cd/0/inline/BurAhe5QXxTjAYjuJLxtJP37pnCkz92aDrhPEnq-XFu8QVQoNdzL5HAIBkgx0tetHVRbNqK1SCePr0PFRFx7MSgE8EsGxvHwSwD9xr4q1XG5lYiyYWa6osSh8TyMIdE_31Ogh04fTvi15NX_hu2tipWxO-ypSwLeX_SRsDl9c0Q-JQ/file\n",
            "Resolving uca11b55c43709e412f819541164.dl.dropboxusercontent.com (uca11b55c43709e412f819541164.dl.dropboxusercontent.com)... 162.125.6.15, 2620:100:6019:15::a27d:40f\n",
            "Connecting to uca11b55c43709e412f819541164.dl.dropboxusercontent.com (uca11b55c43709e412f819541164.dl.dropboxusercontent.com)|162.125.6.15|:443... connected.\n",
            "HTTP request sent, awaiting response... 200 OK\n",
            "Length: 28152 (27K) [text/plain]\n",
            "Saving to: ‘case_info.csv’\n",
            "\n",
            "case_info.csv       100%[===================>]  27.49K  --.-KB/s    in 0.001s  \n",
            "\n",
            "2022-10-12 09:20:16 (27.8 MB/s) - ‘case_info.csv’ saved [28152/28152]\n",
            "\n"
          ]
        }
      ],
      "source": [
        "!wget https://www.dropbox.com/s/2sbmj1vpw7hesa7/case_info.csv"
      ]
    },
    {
      "cell_type": "code",
      "execution_count": null,
      "metadata": {
        "id": "hxhtc4wffA9x"
      },
      "outputs": [],
      "source": [
        "import pandas as pd\n",
        "\n",
        "\n",
        "data = pd.read_csv('case_info.csv')"
      ]
    },
    {
      "cell_type": "code",
      "execution_count": null,
      "metadata": {
        "id": "zF9LQhdnfA9x",
        "outputId": "4140fd9a-ec94-4a86-cd3c-a4d73c9da1a3",
        "colab": {
          "base_uri": "https://localhost:8080/",
          "height": 206
        }
      },
      "outputs": [
        {
          "output_type": "execute_result",
          "data": {
            "text/plain": [
              "           ID  Age Gender OD_OS  Diagnosis\n",
              "0  1906260101   54      M    OD          5\n",
              "1  1906260201   54      F    OD          5\n",
              "2  1906260301   50      M    OD          0\n",
              "3  1906260302   50      M    OS          4\n",
              "4  1906260402   70      M    OS          5"
            ],
            "text/html": [
              "\n",
              "  <div id=\"df-7283c6a3-a25c-4b42-833f-55948b10fa20\">\n",
              "    <div class=\"colab-df-container\">\n",
              "      <div>\n",
              "<style scoped>\n",
              "    .dataframe tbody tr th:only-of-type {\n",
              "        vertical-align: middle;\n",
              "    }\n",
              "\n",
              "    .dataframe tbody tr th {\n",
              "        vertical-align: top;\n",
              "    }\n",
              "\n",
              "    .dataframe thead th {\n",
              "        text-align: right;\n",
              "    }\n",
              "</style>\n",
              "<table border=\"1\" class=\"dataframe\">\n",
              "  <thead>\n",
              "    <tr style=\"text-align: right;\">\n",
              "      <th></th>\n",
              "      <th>ID</th>\n",
              "      <th>Age</th>\n",
              "      <th>Gender</th>\n",
              "      <th>OD_OS</th>\n",
              "      <th>Diagnosis</th>\n",
              "    </tr>\n",
              "  </thead>\n",
              "  <tbody>\n",
              "    <tr>\n",
              "      <th>0</th>\n",
              "      <td>1906260101</td>\n",
              "      <td>54</td>\n",
              "      <td>M</td>\n",
              "      <td>OD</td>\n",
              "      <td>5</td>\n",
              "    </tr>\n",
              "    <tr>\n",
              "      <th>1</th>\n",
              "      <td>1906260201</td>\n",
              "      <td>54</td>\n",
              "      <td>F</td>\n",
              "      <td>OD</td>\n",
              "      <td>5</td>\n",
              "    </tr>\n",
              "    <tr>\n",
              "      <th>2</th>\n",
              "      <td>1906260301</td>\n",
              "      <td>50</td>\n",
              "      <td>M</td>\n",
              "      <td>OD</td>\n",
              "      <td>0</td>\n",
              "    </tr>\n",
              "    <tr>\n",
              "      <th>3</th>\n",
              "      <td>1906260302</td>\n",
              "      <td>50</td>\n",
              "      <td>M</td>\n",
              "      <td>OS</td>\n",
              "      <td>4</td>\n",
              "    </tr>\n",
              "    <tr>\n",
              "      <th>4</th>\n",
              "      <td>1906260402</td>\n",
              "      <td>70</td>\n",
              "      <td>M</td>\n",
              "      <td>OS</td>\n",
              "      <td>5</td>\n",
              "    </tr>\n",
              "  </tbody>\n",
              "</table>\n",
              "</div>\n",
              "      <button class=\"colab-df-convert\" onclick=\"convertToInteractive('df-7283c6a3-a25c-4b42-833f-55948b10fa20')\"\n",
              "              title=\"Convert this dataframe to an interactive table.\"\n",
              "              style=\"display:none;\">\n",
              "        \n",
              "  <svg xmlns=\"http://www.w3.org/2000/svg\" height=\"24px\"viewBox=\"0 0 24 24\"\n",
              "       width=\"24px\">\n",
              "    <path d=\"M0 0h24v24H0V0z\" fill=\"none\"/>\n",
              "    <path d=\"M18.56 5.44l.94 2.06.94-2.06 2.06-.94-2.06-.94-.94-2.06-.94 2.06-2.06.94zm-11 1L8.5 8.5l.94-2.06 2.06-.94-2.06-.94L8.5 2.5l-.94 2.06-2.06.94zm10 10l.94 2.06.94-2.06 2.06-.94-2.06-.94-.94-2.06-.94 2.06-2.06.94z\"/><path d=\"M17.41 7.96l-1.37-1.37c-.4-.4-.92-.59-1.43-.59-.52 0-1.04.2-1.43.59L10.3 9.45l-7.72 7.72c-.78.78-.78 2.05 0 2.83L4 21.41c.39.39.9.59 1.41.59.51 0 1.02-.2 1.41-.59l7.78-7.78 2.81-2.81c.8-.78.8-2.07 0-2.86zM5.41 20L4 18.59l7.72-7.72 1.47 1.35L5.41 20z\"/>\n",
              "  </svg>\n",
              "      </button>\n",
              "      \n",
              "  <style>\n",
              "    .colab-df-container {\n",
              "      display:flex;\n",
              "      flex-wrap:wrap;\n",
              "      gap: 12px;\n",
              "    }\n",
              "\n",
              "    .colab-df-convert {\n",
              "      background-color: #E8F0FE;\n",
              "      border: none;\n",
              "      border-radius: 50%;\n",
              "      cursor: pointer;\n",
              "      display: none;\n",
              "      fill: #1967D2;\n",
              "      height: 32px;\n",
              "      padding: 0 0 0 0;\n",
              "      width: 32px;\n",
              "    }\n",
              "\n",
              "    .colab-df-convert:hover {\n",
              "      background-color: #E2EBFA;\n",
              "      box-shadow: 0px 1px 2px rgba(60, 64, 67, 0.3), 0px 1px 3px 1px rgba(60, 64, 67, 0.15);\n",
              "      fill: #174EA6;\n",
              "    }\n",
              "\n",
              "    [theme=dark] .colab-df-convert {\n",
              "      background-color: #3B4455;\n",
              "      fill: #D2E3FC;\n",
              "    }\n",
              "\n",
              "    [theme=dark] .colab-df-convert:hover {\n",
              "      background-color: #434B5C;\n",
              "      box-shadow: 0px 1px 3px 1px rgba(0, 0, 0, 0.15);\n",
              "      filter: drop-shadow(0px 1px 2px rgba(0, 0, 0, 0.3));\n",
              "      fill: #FFFFFF;\n",
              "    }\n",
              "  </style>\n",
              "\n",
              "      <script>\n",
              "        const buttonEl =\n",
              "          document.querySelector('#df-7283c6a3-a25c-4b42-833f-55948b10fa20 button.colab-df-convert');\n",
              "        buttonEl.style.display =\n",
              "          google.colab.kernel.accessAllowed ? 'block' : 'none';\n",
              "\n",
              "        async function convertToInteractive(key) {\n",
              "          const element = document.querySelector('#df-7283c6a3-a25c-4b42-833f-55948b10fa20');\n",
              "          const dataTable =\n",
              "            await google.colab.kernel.invokeFunction('convertToInteractive',\n",
              "                                                     [key], {});\n",
              "          if (!dataTable) return;\n",
              "\n",
              "          const docLinkHtml = 'Like what you see? Visit the ' +\n",
              "            '<a target=\"_blank\" href=https://colab.research.google.com/notebooks/data_table.ipynb>data table notebook</a>'\n",
              "            + ' to learn more about interactive tables.';\n",
              "          element.innerHTML = '';\n",
              "          dataTable['output_type'] = 'display_data';\n",
              "          await google.colab.output.renderOutput(dataTable, element);\n",
              "          const docLink = document.createElement('div');\n",
              "          docLink.innerHTML = docLinkHtml;\n",
              "          element.appendChild(docLink);\n",
              "        }\n",
              "      </script>\n",
              "    </div>\n",
              "  </div>\n",
              "  "
            ]
          },
          "metadata": {},
          "execution_count": 3
        }
      ],
      "source": [
        "data.head()"
      ]
    },
    {
      "cell_type": "code",
      "execution_count": null,
      "metadata": {
        "id": "-lGryjQKfA9y"
      },
      "outputs": [],
      "source": [
        "data.drop_duplicates(subset='ID', inplace=True)"
      ]
    },
    {
      "cell_type": "code",
      "execution_count": null,
      "metadata": {
        "id": "yaGrD7NYfA9z",
        "outputId": "2e0bd045-afd5-42e4-a9eb-7705e9daf821",
        "colab": {
          "base_uri": "https://localhost:8080/"
        }
      },
      "outputs": [
        {
          "output_type": "execute_result",
          "data": {
            "text/plain": [
              " 0    683\n",
              " 5    413\n",
              " 4     59\n",
              " 3     51\n",
              " 1     25\n",
              " 2     21\n",
              " 6     21\n",
              "-1      5\n",
              "Name: Diagnosis, dtype: int64"
            ]
          },
          "metadata": {},
          "execution_count": 5
        }
      ],
      "source": [
        "data['Diagnosis'].value_counts()"
      ]
    },
    {
      "cell_type": "code",
      "execution_count": null,
      "metadata": {
        "id": "rMs4KWqzfA9z",
        "outputId": "8e8281df-1402-4522-a0d7-ec10e9bdf035",
        "colab": {
          "base_uri": "https://localhost:8080/"
        }
      },
      "outputs": [
        {
          "output_type": "stream",
          "name": "stdout",
          "text": [
            "0    683\n",
            "5    413\n",
            "4     59\n",
            "3     51\n",
            "1     25\n",
            "2     21\n",
            "6     21\n",
            "Name: Diagnosis, dtype: int64\n",
            "1273\n"
          ]
        }
      ],
      "source": [
        "drop_invalid = data.drop(data[data.Diagnosis < 0].index)\n",
        "print(drop_invalid[\"Diagnosis\"].value_counts())\n",
        "print(len(drop_invalid))"
      ]
    },
    {
      "cell_type": "code",
      "execution_count": null,
      "metadata": {
        "id": "lrEnGWl6fA90",
        "outputId": "b8939e42-2ffa-41f0-e78e-a1e0c8206737",
        "colab": {
          "base_uri": "https://localhost:8080/"
        }
      },
      "outputs": [
        {
          "output_type": "stream",
          "name": "stdout",
          "text": [
            "有效診斷數量: 1273\n"
          ]
        }
      ],
      "source": [
        "Diagnosis = data.drop(data[data.Diagnosis < 0].index).value_counts()\n",
        "print(f\"有效診斷數量: {Diagnosis.sum()}\")"
      ]
    },
    {
      "cell_type": "code",
      "execution_count": null,
      "metadata": {
        "id": "zCbmKe6BfA91",
        "outputId": "8ca0587b-69c6-45c6-b417-cb42621920e6",
        "colab": {
          "base_uri": "https://localhost:8080/",
          "height": 315
        }
      },
      "outputs": [
        {
          "output_type": "stream",
          "name": "stdout",
          "text": [
            "Age Distribution\n",
            "case數量: 63\n"
          ]
        },
        {
          "output_type": "display_data",
          "data": {
            "text/plain": [
              "<Figure size 432x288 with 1 Axes>"
            ],
            "image/png": "[encoded data removed]"
          },
          "metadata": {
            "needs_background": "light"
          }
        }
      ],
      "source": [
        "from matplotlib import pyplot as plt\n",
        "print(\"Age Distribution\")\n",
        "age_distribution = drop_invalid['Age'].value_counts()\n",
        "print(f\"case數量: {len(age_distribution)}\")\n",
        "plt.bar(age_distribution.index, age_distribution.values)\n",
        "plt.xlabel('Age')\n",
        "plt.ylabel('Count')\n",
        "plt.show()"
      ]
    },
    {
      "cell_type": "code",
      "execution_count": null,
      "metadata": {
        "id": "HO2Uzhf9fA92",
        "outputId": "d0a242c1-79d3-4de5-db3c-18c252b9552c",
        "colab": {
          "base_uri": "https://localhost:8080/"
        }
      },
      "outputs": [
        {
          "output_type": "stream",
          "name": "stdout",
          "text": [
            "F    659\n",
            "M    614\n",
            "Name: Gender, dtype: int64\n"
          ]
        }
      ],
      "source": [
        "gender_distribution = drop_invalid['Gender'].value_counts()\n",
        "print(gender_distribution)"
      ]
    },
    {
      "cell_type": "code",
      "execution_count": null,
      "metadata": {
        "id": "s8Cp9UxUfA92",
        "outputId": "00b05b24-a0db-4ffc-fe34-b1a7a659fcfc",
        "colab": {
          "base_uri": "https://localhost:8080/"
        }
      },
      "outputs": [
        {
          "output_type": "stream",
          "name": "stdout",
          "text": [
            "OD    637\n",
            "OS    636\n",
            "Name: OD_OS, dtype: int64\n"
          ]
        }
      ],
      "source": [
        "eyes_distribution = drop_invalid['OD_OS'].value_counts()\n",
        "print(eyes_distribution)"
      ]
    },
    {
      "cell_type": "code",
      "execution_count": null,
      "metadata": {
        "id": "Ba8iOswhfA93",
        "outputId": "5dc59a3c-8f80-4d84-e78e-55365c67338a",
        "colab": {
          "base_uri": "https://localhost:8080/"
        }
      },
      "outputs": [
        {
          "output_type": "stream",
          "name": "stdout",
          "text": [
            "Average Age: 48\n"
          ]
        }
      ],
      "source": [
        "print(f\"Average Age: {int(drop_invalid['Age'].mean())}\")"
      ]
    },
    {
      "cell_type": "code",
      "execution_count": null,
      "metadata": {
        "id": "gEfF_5dafA93"
      },
      "outputs": [],
      "source": [
        "#age between 30 to 65\n",
        "age_30_65 = drop_invalid[(drop_invalid['Age'] >= 30) & (drop_invalid['Age'] <= 65)]"
      ]
    },
    {
      "cell_type": "code",
      "execution_count": null,
      "metadata": {
        "id": "d6AwXZetfA94",
        "outputId": "01c47537-2e8d-4118-eba1-1fe82bd401c2",
        "colab": {
          "base_uri": "https://localhost:8080/"
        }
      },
      "outputs": [
        {
          "output_type": "stream",
          "name": "stdout",
          "text": [
            "Genders between 30 to 65 total case : 987\n",
            "Gender distribution : \n",
            "M    501\n",
            "F    486\n",
            "Name: Gender, dtype: int64\n"
          ]
        }
      ],
      "source": [
        "gender_distribution_30_65 = age_30_65['Gender'].value_counts()\n",
        "\n",
        "print(f\"Genders between 30 to 65 total case : {len(age_30_65)}\")\n",
        "print(f\"Gender distribution : \\n{gender_distribution_30_65}\")"
      ]
    },
    {
      "cell_type": "code",
      "execution_count": null,
      "metadata": {
        "id": "rWyCBWAnfA94",
        "outputId": "6eb91328-90bc-4a1e-d995-9c413222785b",
        "colab": {
          "base_uri": "https://localhost:8080/"
        }
      },
      "outputs": [
        {
          "output_type": "stream",
          "name": "stdout",
          "text": [
            "Positive sample: \n",
            "              ID  Age Gender OD_OS  Diagnosis\n",
            "0     1906260101   54      M    OD          5\n",
            "1     1906260201   54      F    OD          5\n",
            "2     1906260301   50      M    OD          0\n",
            "3     1906260302   50      M    OS          4\n",
            "4     1906260402   70      M    OS          5\n",
            "...          ...  ...    ...   ...        ...\n",
            "1273  1909060602   62      M    OS          5\n",
            "1274  1909060701   44      M    OD          0\n",
            "1275  1909060702   44      M    OS          0\n",
            "1276  1909060801   49      M    OD          0\n",
            "1277  1909060802   49      M    OS          0\n",
            "\n",
            "[1273 rows x 5 columns]\n",
            "Positive sample value counts: \n",
            "0    683\n",
            "5    413\n",
            "4     59\n",
            "3     51\n",
            "1     25\n",
            "2     21\n",
            "6     21\n",
            "Name: Diagnosis, dtype: int64\n"
          ]
        }
      ],
      "source": [
        "postive_sample = drop_invalid\n",
        "print(f\"Positive sample: \\n{postive_sample}\")\n",
        "print(f\"Positive sample value counts: \\n{postive_sample['Diagnosis'].value_counts()}\")\n",
        "#save postive sample\n",
        "postive_sample.to_csv('postive_sample.csv', index=False)"
      ]
    },
    {
      "cell_type": "code",
      "execution_count": null,
      "metadata": {
        "id": "iQEwbrwofA95",
        "outputId": "3aea1840-9e97-4382-cf4a-7d84e374e7fb",
        "colab": {
          "base_uri": "https://localhost:8080/"
        }
      },
      "outputs": [
        {
          "output_type": "stream",
          "name": "stdout",
          "text": [
            "Negative sample: \n",
            "              ID  Age Gender OD_OS  Diagnosis\n",
            "2     1906260301   50      M    OD          0\n",
            "6     1906260502   72      F    OS          0\n",
            "8     1906260602   29      F    OS          0\n",
            "12    1906260802   64      F    OS          0\n",
            "13    1906260901   71      F    OD          0\n",
            "...          ...  ...    ...   ...        ...\n",
            "1269  1909060402   43      F    OS          0\n",
            "1274  1909060701   44      M    OD          0\n",
            "1275  1909060702   44      M    OS          0\n",
            "1276  1909060801   49      M    OD          0\n",
            "1277  1909060802   49      M    OS          0\n",
            "\n",
            "[683 rows x 5 columns]\n",
            "Negative sample value counts: \n",
            "0    683\n",
            "Name: Diagnosis, dtype: int64\n"
          ]
        }
      ],
      "source": [
        "negative_sample = data.drop(data[data.Diagnosis != 0].index)\n",
        "print(f\"Negative sample: \\n{negative_sample}\")\n",
        "print(f\"Negative sample value counts: \\n{negative_sample['Diagnosis'].value_counts()}\")\n",
        "#save negative sample\n",
        "negative_sample.to_csv('negative_sample.csv', index=False)\n"
      ]
    }
  ],
  "metadata": {
    "kernelspec": {
      "display_name": "Python 3.8.10 64-bit",
      "language": "python",
      "name": "python3"
    },
    "language_info": {
      "codemirror_mode": {
        "name": "ipython",
        "version": 3
      },
      "file_extension": ".py",
      "mimetype": "text/x-python",
      "name": "python",
      "nbconvert_exporter": "python",
      "pygments_lexer": "ipython3",
      "version": "3.8.10"
    },
    "orig_nbformat": 4,
    "vscode": {
      "interpreter": {
        "hash": "aee8b7b246df8f9039afb4144a1f6fd8d2ca17a180786b69acc140d282b71a49"
      }
    },
    "colab": {
      "provenance": [],
      "include_colab_link": true
    }
  },
  "nbformat": 4,
  "nbformat_minor": 0
}