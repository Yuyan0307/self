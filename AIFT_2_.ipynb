{
  "nbformat": 4,
  "nbformat_minor": 0,
  "metadata": {
    "colab": {
      "provenance": [],
      "collapsed_sections": [],
      "include_colab_link": true
    },
    "kernelspec": {
      "name": "python3",
      "display_name": "Python 3"
    },
    "language_info": {
      "name": "python"
    }
  },
  "cells": [
    {
      "cell_type": "markdown",
      "metadata": {
        "id": "view-in-github",
        "colab_type": "text"
      },
      "source": [
        "<a href=\"https://colab.research.google.com/github/einsteinpan/self/blob/main/AIFT_2_.ipynb\" target=\"_parent\"><img src=\"https://colab.research.google.com/assets/colab-badge.svg\" alt=\"Open In Colab\"/></a>"
      ]
    },
    {
      "cell_type": "markdown",
      "source": [
        "# Pandas"
      ],
      "metadata": {
        "id": "WwikCoTWhR2L"
      }
    },
    {
      "cell_type": "code",
      "source": [
        "#pip install pandas\n",
        "\n",
        "import pandas as pd"
      ],
      "metadata": {
        "id": "GaxeDHHfhGTU"
      },
      "execution_count": null,
      "outputs": []
    },
    {
      "cell_type": "code",
      "source": [
        "data = pd.Series([2, 1.5, 5, 6, 18])    #Series:一維陣列\n",
        "\n",
        "print(data)\n",
        "print(data.values)\n",
        "print(data.index)\n",
        "\n",
        "\n",
        "data_1 = pd.Series([2, 1.5, 5, 6, 18], index=['a', 'b', 'c', 'd', 'e'])   #index可以自己定義\n",
        "data_2 = pd.Series({'a':2, 'b':1.5, 'c':5, 'd':6, 'e':18})\n",
        "\n",
        "df = pd.DataFrame({'first':data_1, 'second':data_2})    #DataFrame:二維陣列\n",
        "\n",
        "print(df)\n",
        "print(df.values)\n",
        "print(df.index)\n",
        "print(df.columns)   #不同於Series,DataFrame還有columns屬性"
      ],
      "metadata": {
        "colab": {
          "base_uri": "https://localhost:8080/"
        },
        "id": "E9t-kkeRhJe8",
        "outputId": "de019b88-734b-48ef-9dec-ba86518cd3a6"
      },
      "execution_count": null,
      "outputs": [
        {
          "output_type": "stream",
          "name": "stdout",
          "text": [
            "0     2.0\n",
            "1     1.5\n",
            "2     5.0\n",
            "3     6.0\n",
            "4    18.0\n",
            "dtype: float64\n",
            "[ 2.   1.5  5.   6.  18. ]\n",
            "RangeIndex(start=0, stop=5, step=1)\n",
            "   first  second\n",
            "a    2.0     2.0\n",
            "b    1.5     1.5\n",
            "c    5.0     5.0\n",
            "d    6.0     6.0\n",
            "e   18.0    18.0\n",
            "[[ 2.   2. ]\n",
            " [ 1.5  1.5]\n",
            " [ 5.   5. ]\n",
            " [ 6.   6. ]\n",
            " [18.  18. ]]\n",
            "Index(['a', 'b', 'c', 'd', 'e'], dtype='object')\n",
            "Index(['first', 'second'], dtype='object')\n"
          ]
        }
      ]
    },
    {
      "cell_type": "code",
      "source": [
        "data_1 = pd.Series([2, 1.5, 5, 6, 18], index=[1, 2, 3, 4, 5]) \n",
        "data_2 = pd.Series([10, 20, 30, 40, 50], index=[1, 2, 3, 4, 5]) \n",
        "\n",
        "\n",
        "df = pd.DataFrame({'first':data_1, 'second':data_2})\n",
        "print(df[1:3])\n",
        "print(df.loc[1:3])    #使用loc取出來的結果是實際按照自定義的index取出元素。\n",
        "print(df.iloc[:2,:2])   #使用iloc來做切片\n",
        "print(df.iloc[-1,1])    #使用iloc取值\n",
        "\n",
        "df['divided'] = df['second']/df['first']  #兩個欄位相除來寫入新的欄\n",
        "print(df)\n",
        "print(list(df['divided']))    #轉成串列\n",
        "print(df.T)   #將陣列作轉置"
      ],
      "metadata": {
        "colab": {
          "base_uri": "https://localhost:8080/"
        },
        "id": "Y87N25RbhLkg",
        "outputId": "68b642fa-9da1-4892-9196-f74fc0fdc0e4"
      },
      "execution_count": null,
      "outputs": [
        {
          "output_type": "stream",
          "name": "stdout",
          "text": [
            "   first  second\n",
            "2    1.5      20\n",
            "3    5.0      30\n",
            "   first  second\n",
            "1    2.0      10\n",
            "2    1.5      20\n",
            "3    5.0      30\n",
            "   first  second\n",
            "1    2.0      10\n",
            "2    1.5      20\n",
            "50\n",
            "   first  second    divided\n",
            "1    2.0      10   5.000000\n",
            "2    1.5      20  13.333333\n",
            "3    5.0      30   6.000000\n",
            "4    6.0      40   6.666667\n",
            "5   18.0      50   2.777778\n",
            "[5.0, 13.333333333333334, 6.0, 6.666666666666667, 2.7777777777777777]\n",
            "            1          2     3          4          5\n",
            "first     2.0   1.500000   5.0   6.000000  18.000000\n",
            "second   10.0  20.000000  30.0  40.000000  50.000000\n",
            "divided   5.0  13.333333   6.0   6.666667   2.777778\n"
          ]
        }
      ]
    },
    {
      "cell_type": "code",
      "source": [
        "data = pd.Series([2, 'AIFT', 5, 6, None]) \n",
        "\n",
        "print(data)\n",
        "print(data.isnull())    #isnull() & notnull()檢測空值,回傳資料的布林值。\n",
        "print(data.notnull())\n",
        "print(data.dropna())    #dropna() 刪除空值\n",
        "print(data.fillna(0))   #fillna() 替換空值"
      ],
      "metadata": {
        "colab": {
          "base_uri": "https://localhost:8080/"
        },
        "id": "14SCv5jrhNm5",
        "outputId": "ce8e4bc1-091c-46c2-c3ec-e820c2550f8c"
      },
      "execution_count": null,
      "outputs": [
        {
          "output_type": "stream",
          "name": "stdout",
          "text": [
            "0       2\n",
            "1    AIFT\n",
            "2       5\n",
            "3       6\n",
            "4    None\n",
            "dtype: object\n",
            "0    False\n",
            "1    False\n",
            "2    False\n",
            "3    False\n",
            "4     True\n",
            "dtype: bool\n",
            "0     True\n",
            "1     True\n",
            "2     True\n",
            "3     True\n",
            "4    False\n",
            "dtype: bool\n",
            "0       2\n",
            "1    AIFT\n",
            "2       5\n",
            "3       6\n",
            "dtype: object\n",
            "0       2\n",
            "1    AIFT\n",
            "2       5\n",
            "3       6\n",
            "4       0\n",
            "dtype: object\n"
          ]
        }
      ]
    },
    {
      "cell_type": "code",
      "source": [
        "import numpy as np\n",
        "data = pd.Series(np.random.randint(10, size=6)) \n",
        "\n",
        "print(data)\n",
        "print(data.count())   #元素數量\n",
        "print(data.sum())   #總和\n",
        "print(data.mean())    #平均值\n",
        "print(data.median())    #中位數\n",
        "print(data.max())   #最大值\n",
        "print(data.min())   #最小值"
      ],
      "metadata": {
        "colab": {
          "base_uri": "https://localhost:8080/"
        },
        "id": "AVWwKS0WhPP5",
        "outputId": "3eb80a53-848c-4916-b015-4bbeb0488846"
      },
      "execution_count": null,
      "outputs": [
        {
          "output_type": "stream",
          "name": "stdout",
          "text": [
            "0    6\n",
            "1    0\n",
            "2    2\n",
            "3    4\n",
            "4    4\n",
            "5    3\n",
            "dtype: int64\n",
            "6\n",
            "19\n",
            "3.1666666666666665\n",
            "3.5\n",
            "6\n",
            "0\n"
          ]
        }
      ]
    },
    {
      "cell_type": "markdown",
      "source": [
        "# Matplotlib 套件"
      ],
      "metadata": {
        "id": "gm-MqVybheNC"
      }
    },
    {
      "cell_type": "code",
      "source": [
        "import matplotlib.pyplot as plt\n",
        "import numpy as np"
      ],
      "metadata": {
        "id": "51QXeHV3hfA_"
      },
      "execution_count": null,
      "outputs": []
    },
    {
      "cell_type": "code",
      "source": [
        "x = np.linspace(-10,10,100)   #建立一個矩陣從-10到10(100個等差數值)\n",
        "fig = plt.figure()    #定義一個圖像窗口\n",
        "\n",
        "plt.plot(x, np.sin(x), '.')   #定義畫圖的樣式\n",
        "plt.plot(x, np.cos(x), '--')\n",
        "plt.xlim(0,10)\n",
        "plt.ylim(-2,2);   #調整軸限制 : plt.xlim() & plt.ylim()"
      ],
      "metadata": {
        "colab": {
          "base_uri": "https://localhost:8080/",
          "height": 269
        },
        "id": "Lx_NLOz0hiQZ",
        "outputId": "8633d614-73cd-452d-d2d6-d762906c8974"
      },
      "execution_count": null,
      "outputs": [
        {
          "output_type": "display_data",
          "data": {
            "text/plain": [
              "<Figure size 432x288 with 1 Axes>"
            ],
            "image/png": "[encoded data removed]"
          },
          "metadata": {
            "needs_background": "light"
          }
        }
      ]
    },
    {
      "cell_type": "code",
      "source": [
        "x = np.linspace(-10,10,100)   \n",
        "fig = plt.figure(figsize=(10,5))   #調整窗口大小 \n",
        "plt.title(\"title\")  #圖表標題\n",
        "plt.xlabel(\"xlabel\")  #圖表x軸標題\n",
        "plt.ylabel(\"ylabel\")  #圖表y軸標題\n",
        "plt.plot(x, np.sin(x), color='r', label='sin', linestyle='-', marker='*', linewidth='2')   #定義畫圖的顏色、圖例、線條、形狀、寬度\n",
        "plt.plot(x, np.cos(x), color='b', label='cos', linestyle='--', marker='o', linewidth='1')\n",
        "plt.grid(axis='y')    #定義網格\n",
        "plt.legend(loc='upper right')   #當有兩種以上資料,可以使用.legend()來顯示資料的圖例"
      ],
      "metadata": {
        "colab": {
          "base_uri": "https://localhost:8080/",
          "height": 368
        },
        "id": "a17qLgkohkxW",
        "outputId": "ab074daa-c150-42f6-928e-a3fb3138c86c"
      },
      "execution_count": null,
      "outputs": [
        {
          "output_type": "execute_result",
          "data": {
            "text/plain": [
              "<matplotlib.legend.Legend at 0x7f22bf9a1590>"
            ]
          },
          "metadata": {},
          "execution_count": 10
        },
        {
          "output_type": "display_data",
          "data": {
            "text/plain": [
              "<Figure size 720x360 with 1 Axes>"
            ],
            "image/png": "[encoded data removed]"
          },
          "metadata": {
            "needs_background": "light"
          }
        }
      ]
    },
    {
      "cell_type": "markdown",
      "source": [
        "# 檔案:\n",
        "\n",
        "*  **Falling market** : https://drive.google.com/uc?export=download&id=1SxbEOWcbfjF4M9ade9R3yvgZyU4ki4bE\n",
        "*  **Rising market** : https://drive.google.com/uc?export=download&id=1-FslTNcQDFKWsUcQSpPCEFtpibE_ldWH\n",
        "*  **V-shape market** : https://drive.google.com/uc?export=download&id=1knLm6dSqIVA_6Jl0VRwcXDgboYDezbVs\n",
        "*  **Inverse V-shape market** : https://drive.google.com/uc?export=download&id=1uliuqVB6lWV48-zMXga0o8T8IYnsEQEg\n",
        "*  **N-shape market** : https://drive.google.com/uc?export=download&id=1_cYkwCqfbNs3fWYdbIZvnPPuUT_ee11f\n",
        "*  **Inverse N-shape market** : https://drive.google.com/uc?export=download&id=1jXgPGLLBMaWxBLysP5nTeAJYSF7p9uEB\n",
        "*  **W-shape market** : https://drive.google.com/uc?export=download&id=1VksPmeOntO2X3E_FdQ5C8EJFHA706t8R\n",
        "*  **Inverse W-shape market** : https://drive.google.com/uc?export=download&id=1INV0ZyYazHb4_u2CNlewRX_WBsgVCMn5\n",
        "\n",
        "* **第二題(V-shape)** : https://drive.google.com/uc?export=download&id=121ZpW4XNPiT1XZz0Sbd1MEkPoakZ_ZF9\n",
        "\n",
        "* **第二題(Inverse V-shape)** : https://drive.google.com/uc?export=download&id=1jF90WZdbCJKIzkE5140BJCWNVRgq76m7\n",
        "\n",
        "* **第五題** : https://drive.google.com/uc?export=download&id=1pUIjpQpsmOBjX9L1B_5fKjxsi-qX2xY6"
      ],
      "metadata": {
        "id": "5birJuwhbOxu"
      }
    },
    {
      "cell_type": "code",
      "execution_count": null,
      "metadata": {
        "colab": {
          "base_uri": "https://localhost:8080/"
        },
        "id": "cFDYLZ1kp9yV",
        "outputId": "d4f9b7a9-9c43-4061-e16b-f80057cca022"
      },
      "outputs": [
        {
          "output_type": "stream",
          "name": "stdout",
          "text": [
            "Mounted at /content/drive\n"
          ]
        }
      ],
      "source": [
        "#pip install pandas\n",
        "\n",
        "import pandas as pd\n",
        "import matplotlib.pyplot as plt\n",
        "from google.colab import drive    \n",
        "\n",
        "drive.mount('/content/drive')   #掛接雲端硬碟時使用"
      ]
    },
    {
      "cell_type": "code",
      "source": [
        "                                                                                                                                                                                                                                                                                                                                                                                                                                                                                                                                                                                                                                                                                                                                                                                                                                                                                                                                                                                                                                                                                                                stocks = pd.read_excel(\"https://drive.google.com/uc?export=download&id=1jF90WZdbCJKIzkE5140BJCWNVRgq76m7\")  #讀取xlsx檔資料\n",
        "stocks"
      ],
      "metadata": {
        "colab": {
          "base_uri": "https://localhost:8080/",
          "height": 378
        },
        "id": "R9sCCfATN18B",
        "outputId": "8dd9dc07-a3e4-4006-f877-c9e09d5684cb"
      },
      "execution_count": null,
      "outputs": [
        {
          "output_type": "execute_result",
          "data": {
            "text/plain": [
              "    month  money invest  stock price\n",
              "0       1         10000           10\n",
              "1       2         10000           11\n",
              "2       3         10000           12\n",
              "3       4         10000           13\n",
              "4       5         10000           14\n",
              "5       6         10000           15\n",
              "6       7         10000           14\n",
              "7       8         10000           13\n",
              "8       9         10000           12\n",
              "9      10         10000           11\n",
              "10     11         10000           10"
            ],
            "text/html": [
              "\n",
              "  <div id=\"df-5cb002c5-e4e9-4605-ac13-94a295f3eaa5\">\n",
              "    <div class=\"colab-df-container\">\n",
              "      <div>\n",
              "<style scoped>\n",
              "    .dataframe tbody tr th:only-of-type {\n",
              "        vertical-align: middle;\n",
              "    }\n",
              "\n",
              "    .dataframe tbody tr th {\n",
              "        vertical-align: top;\n",
              "    }\n",
              "\n",
              "    .dataframe thead th {\n",
              "        text-align: right;\n",
              "    }\n",
              "</style>\n",
              "<table border=\"1\" class=\"dataframe\">\n",
              "  <thead>\n",
              "    <tr style=\"text-align: right;\">\n",
              "      <th></th>\n",
              "      <th>month</th>\n",
              "      <th>money invest</th>\n",
              "      <th>stock price</th>\n",
              "    </tr>\n",
              "  </thead>\n",
              "  <tbody>\n",
              "    <tr>\n",
              "      <th>0</th>\n",
              "      <td>1</td>\n",
              "      <td>10000</td>\n",
              "      <td>10</td>\n",
              "    </tr>\n",
              "    <tr>\n",
              "      <th>1</th>\n",
              "      <td>2</td>\n",
              "      <td>10000</td>\n",
              "      <td>11</td>\n",
              "    </tr>\n",
              "    <tr>\n",
              "      <th>2</th>\n",
              "      <td>3</td>\n",
              "      <td>10000</td>\n",
              "      <td>12</td>\n",
              "    </tr>\n",
              "    <tr>\n",
              "      <th>3</th>\n",
              "      <td>4</td>\n",
              "      <td>10000</td>\n",
              "      <td>13</td>\n",
              "    </tr>\n",
              "    <tr>\n",
              "      <th>4</th>\n",
              "      <td>5</td>\n",
              "      <td>10000</td>\n",
              "      <td>14</td>\n",
              "    </tr>\n",
              "    <tr>\n",
              "      <th>5</th>\n",
              "      <td>6</td>\n",
              "      <td>10000</td>\n",
              "      <td>15</td>\n",
              "    </tr>\n",
              "    <tr>\n",
              "      <th>6</th>\n",
              "      <td>7</td>\n",
              "      <td>10000</td>\n",
              "      <td>14</td>\n",
              "    </tr>\n",
              "    <tr>\n",
              "      <th>7</th>\n",
              "      <td>8</td>\n",
              "      <td>10000</td>\n",
              "      <td>13</td>\n",
              "    </tr>\n",
              "    <tr>\n",
              "      <th>8</th>\n",
              "      <td>9</td>\n",
              "      <td>10000</td>\n",
              "      <td>12</td>\n",
              "    </tr>\n",
              "    <tr>\n",
              "      <th>9</th>\n",
              "      <td>10</td>\n",
              "      <td>10000</td>\n",
              "      <td>11</td>\n",
              "    </tr>\n",
              "    <tr>\n",
              "      <th>10</th>\n",
              "      <td>11</td>\n",
              "      <td>10000</td>\n",
              "      <td>10</td>\n",
              "    </tr>\n",
              "  </tbody>\n",
              "</table>\n",
              "</div>\n",
              "      <button class=\"colab-df-convert\" onclick=\"convertToInteractive('df-5cb002c5-e4e9-4605-ac13-94a295f3eaa5')\"\n",
              "              title=\"Convert this dataframe to an interactive table.\"\n",
              "              style=\"display:none;\">\n",
              "        \n",
              "  <svg xmlns=\"http://www.w3.org/2000/svg\" height=\"24px\"viewBox=\"0 0 24 24\"\n",
              "       width=\"24px\">\n",
              "    <path d=\"M0 0h24v24H0V0z\" fill=\"none\"/>\n",
              "    <path d=\"M18.56 5.44l.94 2.06.94-2.06 2.06-.94-2.06-.94-.94-2.06-.94 2.06-2.06.94zm-11 1L8.5 8.5l.94-2.06 2.06-.94-2.06-.94L8.5 2.5l-.94 2.06-2.06.94zm10 10l.94 2.06.94-2.06 2.06-.94-2.06-.94-.94-2.06-.94 2.06-2.06.94z\"/><path d=\"M17.41 7.96l-1.37-1.37c-.4-.4-.92-.59-1.43-.59-.52 0-1.04.2-1.43.59L10.3 9.45l-7.72 7.72c-.78.78-.78 2.05 0 2.83L4 21.41c.39.39.9.59 1.41.59.51 0 1.02-.2 1.41-.59l7.78-7.78 2.81-2.81c.8-.78.8-2.07 0-2.86zM5.41 20L4 18.59l7.72-7.72 1.47 1.35L5.41 20z\"/>\n",
              "  </svg>\n",
              "      </button>\n",
              "      \n",
              "  <style>\n",
              "    .colab-df-container {\n",
              "      display:flex;\n",
              "      flex-wrap:wrap;\n",
              "      gap: 12px;\n",
              "    }\n",
              "\n",
              "    .colab-df-convert {\n",
              "      background-color: #E8F0FE;\n",
              "      border: none;\n",
              "      border-radius: 50%;\n",
              "      cursor: pointer;\n",
              "      display: none;\n",
              "      fill: #1967D2;\n",
              "      height: 32px;\n",
              "      padding: 0 0 0 0;\n",
              "      width: 32px;\n",
              "    }\n",
              "\n",
              "    .colab-df-convert:hover {\n",
              "      background-color: #E2EBFA;\n",
              "      box-shadow: 0px 1px 2px rgba(60, 64, 67, 0.3), 0px 1px 3px 1px rgba(60, 64, 67, 0.15);\n",
              "      fill: #174EA6;\n",
              "    }\n",
              "\n",
              "    [theme=dark] .colab-df-convert {\n",
              "      background-color: #3B4455;\n",
              "      fill: #D2E3FC;\n",
              "    }\n",
              "\n",
              "    [theme=dark] .colab-df-convert:hover {\n",
              "      background-color: #434B5C;\n",
              "      box-shadow: 0px 1px 3px 1px rgba(0, 0, 0, 0.15);\n",
              "      filter: drop-shadow(0px 1px 2px rgba(0, 0, 0, 0.3));\n",
              "      fill: #FFFFFF;\n",
              "    }\n",
              "  </style>\n",
              "\n",
              "      <script>\n",
              "        const buttonEl =\n",
              "          document.querySelector('#df-5cb002c5-e4e9-4605-ac13-94a295f3eaa5 button.colab-df-convert');\n",
              "        buttonEl.style.display =\n",
              "          google.colab.kernel.accessAllowed ? 'block' : 'none';\n",
              "\n",
              "        async function convertToInteractive(key) {\n",
              "          const element = document.querySelector('#df-5cb002c5-e4e9-4605-ac13-94a295f3eaa5');\n",
              "          const dataTable =\n",
              "            await google.colab.kernel.invokeFunction('convertToInteractive',\n",
              "                                                     [key], {});\n",
              "          if (!dataTable) return;\n",
              "\n",
              "          const docLinkHtml = 'Like what you see? Visit the ' +\n",
              "            '<a target=\"_blank\" href=https://colab.research.google.com/notebooks/data_table.ipynb>data table notebook</a>'\n",
              "            + ' to learn more about interactive tables.';\n",
              "          element.innerHTML = '';\n",
              "          dataTable['output_type'] = 'display_data';\n",
              "          await google.colab.output.renderOutput(dataTable, element);\n",
              "          const docLink = document.createElement('div');\n",
              "          docLink.innerHTML = docLinkHtml;\n",
              "          element.appendChild(docLink);\n",
              "        }\n",
              "      </script>\n",
              "    </div>\n",
              "  </div>\n",
              "  "
            ]
          },
          "metadata": {},
          "execution_count": 3
        }
      ]
    },
    {
      "cell_type": "code",
      "source": [
        "def draw(stocks):\n",
        "  x = stocks[\"month\"]\n",
        "  y = stocks[\"stock price\"]\n",
        "\n",
        "  plt.scatter(x, y, color='r', zorder=2)\n",
        "  plt.plot(x, y, color='b', zorder=1)   #zorder : 畫圖順序\n",
        "  plt.xlabel(\"Month\")\n",
        "  plt.ylabel(\"Stock price\")\n",
        "  plt.grid()\n",
        "  plt.show()\n",
        "\n",
        "draw(stocks)"
      ],
      "metadata": {
        "colab": {
          "base_uri": "https://localhost:8080/",
          "height": 279
        },
        "id": "lleySVH-jnxQ",
        "outputId": "620cfc3c-b98c-44b0-8bc6-21fb5a3fb5bc"
      },
      "execution_count": null,
      "outputs": [
        {
          "output_type": "display_data",
          "data": {
            "text/plain": [
              "<Figure size 432x288 with 1 Axes>"
            ],
            "image/png": "[encoded data removed]"
          },
          "metadata": {
            "needs_background": "light"
          }
        }
      ]
    },
    {
      "cell_type": "code",
      "source": [
        "stocks['shares purchased'] = stocks[\"money invest\"]/stocks[\"stock price\"]\n",
        "stocks"
      ],
      "metadata": {
        "colab": {
          "base_uri": "https://localhost:8080/",
          "height": 237
        },
        "id": "9I55tyGfSob7",
        "outputId": "5ea157d0-930b-4f98-9e6a-93f2590cb769"
      },
      "execution_count": null,
      "outputs": [
        {
          "output_type": "execute_result",
          "data": {
            "text/plain": [
              "   month  money invest  stock price  shares purchased\n",
              "0      1         10000          100        100.000000\n",
              "1      2         10000           90        111.111111\n",
              "2      3         10000           80        125.000000\n",
              "3      4         10000           70        142.857143\n",
              "4      5         10000           60        166.666667\n",
              "5      6         10000           50        200.000000"
            ],
            "text/html": [
              "\n",
              "  <div id=\"df-6b2dd0aa-8dbb-41aa-ace1-99daea84925f\">\n",
              "    <div class=\"colab-df-container\">\n",
              "      <div>\n",
              "<style scoped>\n",
              "    .dataframe tbody tr th:only-of-type {\n",
              "        vertical-align: middle;\n",
              "    }\n",
              "\n",
              "    .dataframe tbody tr th {\n",
              "        vertical-align: top;\n",
              "    }\n",
              "\n",
              "    .dataframe thead th {\n",
              "        text-align: right;\n",
              "    }\n",
              "</style>\n",
              "<table border=\"1\" class=\"dataframe\">\n",
              "  <thead>\n",
              "    <tr style=\"text-align: right;\">\n",
              "      <th></th>\n",
              "      <th>month</th>\n",
              "      <th>money invest</th>\n",
              "      <th>stock price</th>\n",
              "      <th>shares purchased</th>\n",
              "    </tr>\n",
              "  </thead>\n",
              "  <tbody>\n",
              "    <tr>\n",
              "      <th>0</th>\n",
              "      <td>1</td>\n",
              "      <td>10000</td>\n",
              "      <td>100</td>\n",
              "      <td>100.000000</td>\n",
              "    </tr>\n",
              "    <tr>\n",
              "      <th>1</th>\n",
              "      <td>2</td>\n",
              "      <td>10000</td>\n",
              "      <td>90</td>\n",
              "      <td>111.111111</td>\n",
              "    </tr>\n",
              "    <tr>\n",
              "      <th>2</th>\n",
              "      <td>3</td>\n",
              "      <td>10000</td>\n",
              "      <td>80</td>\n",
              "      <td>125.000000</td>\n",
              "    </tr>\n",
              "    <tr>\n",
              "      <th>3</th>\n",
              "      <td>4</td>\n",
              "      <td>10000</td>\n",
              "      <td>70</td>\n",
              "      <td>142.857143</td>\n",
              "    </tr>\n",
              "    <tr>\n",
              "      <th>4</th>\n",
              "      <td>5</td>\n",
              "      <td>10000</td>\n",
              "      <td>60</td>\n",
              "      <td>166.666667</td>\n",
              "    </tr>\n",
              "    <tr>\n",
              "      <th>5</th>\n",
              "      <td>6</td>\n",
              "      <td>10000</td>\n",
              "      <td>50</td>\n",
              "      <td>200.000000</td>\n",
              "    </tr>\n",
              "  </tbody>\n",
              "</table>\n",
              "</div>\n",
              "      <button class=\"colab-df-convert\" onclick=\"convertToInteractive('df-6b2dd0aa-8dbb-41aa-ace1-99daea84925f')\"\n",
              "              title=\"Convert this dataframe to an interactive table.\"\n",
              "              style=\"display:none;\">\n",
              "        \n",
              "  <svg xmlns=\"http://www.w3.org/2000/svg\" height=\"24px\"viewBox=\"0 0 24 24\"\n",
              "       width=\"24px\">\n",
              "    <path d=\"M0 0h24v24H0V0z\" fill=\"none\"/>\n",
              "    <path d=\"M18.56 5.44l.94 2.06.94-2.06 2.06-.94-2.06-.94-.94-2.06-.94 2.06-2.06.94zm-11 1L8.5 8.5l.94-2.06 2.06-.94-2.06-.94L8.5 2.5l-.94 2.06-2.06.94zm10 10l.94 2.06.94-2.06 2.06-.94-2.06-.94-.94-2.06-.94 2.06-2.06.94z\"/><path d=\"M17.41 7.96l-1.37-1.37c-.4-.4-.92-.59-1.43-.59-.52 0-1.04.2-1.43.59L10.3 9.45l-7.72 7.72c-.78.78-.78 2.05 0 2.83L4 21.41c.39.39.9.59 1.41.59.51 0 1.02-.2 1.41-.59l7.78-7.78 2.81-2.81c.8-.78.8-2.07 0-2.86zM5.41 20L4 18.59l7.72-7.72 1.47 1.35L5.41 20z\"/>\n",
              "  </svg>\n",
              "      </button>\n",
              "      \n",
              "  <style>\n",
              "    .colab-df-container {\n",
              "      display:flex;\n",
              "      flex-wrap:wrap;\n",
              "      gap: 12px;\n",
              "    }\n",
              "\n",
              "    .colab-df-convert {\n",
              "      background-color: #E8F0FE;\n",
              "      border: none;\n",
              "      border-radius: 50%;\n",
              "      cursor: pointer;\n",
              "      display: none;\n",
              "      fill: #1967D2;\n",
              "      height: 32px;\n",
              "      padding: 0 0 0 0;\n",
              "      width: 32px;\n",
              "    }\n",
              "\n",
              "    .colab-df-convert:hover {\n",
              "      background-color: #E2EBFA;\n",
              "      box-shadow: 0px 1px 2px rgba(60, 64, 67, 0.3), 0px 1px 3px 1px rgba(60, 64, 67, 0.15);\n",
              "      fill: #174EA6;\n",
              "    }\n",
              "\n",
              "    [theme=dark] .colab-df-convert {\n",
              "      background-color: #3B4455;\n",
              "      fill: #D2E3FC;\n",
              "    }\n",
              "\n",
              "    [theme=dark] .colab-df-convert:hover {\n",
              "      background-color: #434B5C;\n",
              "      box-shadow: 0px 1px 3px 1px rgba(0, 0, 0, 0.15);\n",
              "      filter: drop-shadow(0px 1px 2px rgba(0, 0, 0, 0.3));\n",
              "      fill: #FFFFFF;\n",
              "    }\n",
              "  </style>\n",
              "\n",
              "      <script>\n",
              "        const buttonEl =\n",
              "          document.querySelector('#df-6b2dd0aa-8dbb-41aa-ace1-99daea84925f button.colab-df-convert');\n",
              "        buttonEl.style.display =\n",
              "          google.colab.kernel.accessAllowed ? 'block' : 'none';\n",
              "\n",
              "        async function convertToInteractive(key) {\n",
              "          const element = document.querySelector('#df-6b2dd0aa-8dbb-41aa-ace1-99daea84925f');\n",
              "          const dataTable =\n",
              "            await google.colab.kernel.invokeFunction('convertToInteractive',\n",
              "                                                     [key], {});\n",
              "          if (!dataTable) return;\n",
              "\n",
              "          const docLinkHtml = 'Like what you see? Visit the ' +\n",
              "            '<a target=\"_blank\" href=https://colab.research.google.com/notebooks/data_table.ipynb>data table notebook</a>'\n",
              "            + ' to learn more about interactive tables.';\n",
              "          element.innerHTML = '';\n",
              "          dataTable['output_type'] = 'display_data';\n",
              "          await google.colab.output.renderOutput(dataTable, element);\n",
              "          const docLink = document.createElement('div');\n",
              "          docLink.innerHTML = docLinkHtml;\n",
              "          element.appendChild(docLink);\n",
              "        }\n",
              "      </script>\n",
              "    </div>\n",
              "  </div>\n",
              "  "
            ]
          },
          "metadata": {},
          "execution_count": 34
        }
      ]
    },
    {
      "cell_type": "markdown",
      "source": [
        "# DCA"
      ],
      "metadata": {
        "id": "9VGHoWdiXKKx"
      }
    },
    {
      "cell_type": "code",
      "source": [
        "Accumulated_shares = stocks[\"shares purchased\"].sum()\n",
        "Accumulated_shares"
      ],
      "metadata": {
        "colab": {
          "base_uri": "https://localhost:8080/",
          "height": 181
        },
        "id": "f3t0OM7ZURfi",
        "outputId": "48feb7cb-e410-4ec5-99d4-49ea664991c1"
      },
      "execution_count": 3,
      "outputs": [
        {
          "output_type": "error",
          "ename": "NameError",
          "evalue": "ignored",
          "traceback": [
            "\u001b[0;31m---------------------------------------------------------------------------\u001b[0m",
            "\u001b[0;31mNameError\u001b[0m                                 Traceback (most recent call last)",
            "\u001b[0;32m<ipython-input-3-558f273fc659>\u001b[0m in \u001b[0;36m<module>\u001b[0;34m\u001b[0m\n\u001b[0;32m----> 1\u001b[0;31m \u001b[0mAccumulated_shares\u001b[0m \u001b[0;34m=\u001b[0m \u001b[0mstocks\u001b[0m\u001b[0;34m[\u001b[0m\u001b[0;34m\"shares purchased\"\u001b[0m\u001b[0;34m]\u001b[0m\u001b[0;34m.\u001b[0m\u001b[0msum\u001b[0m\u001b[0;34m(\u001b[0m\u001b[0;34m)\u001b[0m\u001b[0;34m\u001b[0m\u001b[0;34m\u001b[0m\u001b[0m\n\u001b[0m\u001b[1;32m      2\u001b[0m \u001b[0mAccumulated_shares\u001b[0m\u001b[0;34m\u001b[0m\u001b[0;34m\u001b[0m\u001b[0m\n",
            "\u001b[0;31mNameError\u001b[0m: name 'stocks' is not defined"
          ]
        }
      ]
    },
    {
      "cell_type": "code",
      "source": [
        "Total_final_value = Accumulated_shares*stocks[\"stock price\"].iloc[-1]\n",
        "Total_final_value"
      ],
      "metadata": {
        "colab": {
          "base_uri": "https://localhost:8080/"
        },
        "id": "JZxjKiTWUh_C",
        "outputId": "279e8598-9835-4527-b83e-9b8d099d5eaa"
      },
      "execution_count": null,
      "outputs": [
        {
          "output_type": "execute_result",
          "data": {
            "text/plain": [
              "42281.74603174603"
            ]
          },
          "metadata": {},
          "execution_count": 36
        }
      ]
    },
    {
      "cell_type": "code",
      "source": [
        "Cash_flow = list(-stocks[\"money invest\"])\n",
        "Cash_flow"
      ],
      "metadata": {
        "colab": {
          "base_uri": "https://localhost:8080/"
        },
        "id": "nOZ4qBvEV-AS",
        "outputId": "2060983c-c7df-4bf3-dd62-38afd8b8724a"
      },
      "execution_count": null,
      "outputs": [
        {
          "output_type": "execute_result",
          "data": {
            "text/plain": [
              "[-10000, -10000, -10000, -10000, -10000, -10000]"
            ]
          },
          "metadata": {},
          "execution_count": 37
        }
      ]
    },
    {
      "cell_type": "code",
      "source": [
        "Cash_flow.append(Total_final_value)\n",
        "Cash_flow"
      ],
      "metadata": {
        "colab": {
          "base_uri": "https://localhost:8080/"
        },
        "id": "lJdlCtSzWZJa",
        "outputId": "ef8c5542-5108-4114-b35a-a3e7c01a8b24"
      },
      "execution_count": null,
      "outputs": [
        {
          "output_type": "execute_result",
          "data": {
            "text/plain": [
              "[-10000, -10000, -10000, -10000, -10000, -10000, 42281.74603174603]"
            ]
          },
          "metadata": {},
          "execution_count": 38
        }
      ]
    },
    {
      "cell_type": "code",
      "source": [
        "import numpy_financial as npf\n",
        "IRR = npf.irr(Cash_flow)\n",
        "print(IRR*100,'%')"
      ],
      "metadata": {
        "colab": {
          "base_uri": "https://localhost:8080/"
        },
        "id": "dnNfIDDOWnf5",
        "outputId": "70434b8a-20c1-4736-c73c-ac0d1afa9611"
      },
      "execution_count": null,
      "outputs": [
        {
          "output_type": "stream",
          "name": "stdout",
          "text": [
            "-9.925652590305612 %\n"
          ]
        }
      ]
    },
    {
      "cell_type": "markdown",
      "source": [
        "# lump sum"
      ],
      "metadata": {
        "id": "lVFYZO_tXNP5"
      }
    },
    {
      "cell_type": "code",
      "source": [
        "invest = stocks[\"money invest\"].sum()\n",
        "invest"
      ],
      "metadata": {
        "colab": {
          "base_uri": "https://localhost:8080/"
        },
        "id": "9_Cvo_DzXPM5",
        "outputId": "8cc4b9f0-d6bf-4aed-84cc-b20ef30fbefa"
      },
      "execution_count": null,
      "outputs": [
        {
          "output_type": "execute_result",
          "data": {
            "text/plain": [
              "60000"
            ]
          },
          "metadata": {},
          "execution_count": 40
        }
      ]
    },
    {
      "cell_type": "code",
      "source": [
        "Accumulated_shares = invest/stocks[\"stock price\"][0]\n",
        "Accumulated_shares"
      ],
      "metadata": {
        "colab": {
          "base_uri": "https://localhost:8080/"
        },
        "id": "AUUD3iHdXkvx",
        "outputId": "0fcdb3d8-459d-4dcf-a1dd-d062ff63fcf9"
      },
      "execution_count": null,
      "outputs": [
        {
          "output_type": "execute_result",
          "data": {
            "text/plain": [
              "600.0"
            ]
          },
          "metadata": {},
          "execution_count": 42
        }
      ]
    },
    {
      "cell_type": "code",
      "source": [
        "Total_final_value = Accumulated_shares * stocks[\"stock price\"].iloc[-1]\n",
        "Total_final_value"
      ],
      "metadata": {
        "colab": {
          "base_uri": "https://localhost:8080/"
        },
        "id": "yU8bzXYTX1la",
        "outputId": "b54b850a-0b0b-44c2-ad08-6f7256ca2487"
      },
      "execution_count": null,
      "outputs": [
        {
          "output_type": "execute_result",
          "data": {
            "text/plain": [
              "30000.0"
            ]
          },
          "metadata": {},
          "execution_count": 43
        }
      ]
    },
    {
      "cell_type": "markdown",
      "source": [
        "# IRR"
      ],
      "metadata": {
        "id": "wz-OokktdL8n"
      }
    },
    {
      "cell_type": "code",
      "source": [
        "#Vs code : pip install numpy_financial\n",
        "\n",
        "!pip install numpy_financial #IRR指令會使用到的套件"
      ],
      "metadata": {
        "colab": {
          "base_uri": "https://localhost:8080/"
        },
        "id": "e7BpBpWBdNfU",
        "outputId": "c663f8df-25c6-4339-de5d-fedaed2cdb31"
      },
      "execution_count": 1,
      "outputs": [
        {
          "output_type": "stream",
          "name": "stdout",
          "text": [
            "Looking in indexes: https://pypi.org/simple, https://us-python.pkg.dev/colab-wheels/public/simple/\n",
            "Collecting numpy_financial\n",
            "  Downloading numpy_financial-1.0.0-py3-none-any.whl (14 kB)\n",
            "Requirement already satisfied: numpy>=1.15 in /usr/local/lib/python3.7/dist-packages (from numpy_financial) (1.21.6)\n",
            "Installing collected packages: numpy-financial\n",
            "Successfully installed numpy-financial-1.0.0\n"
          ]
        }
      ]
    },
    {
      "cell_type": "code",
      "source": [
        "import numpy_financial as npf\n",
        "IRR = npf.irr([-10000, -10000, -10000, -10000, -10000, -10000, -10000, -10000, -10000, -10000, -10000, -10000, 120783])\n",
        "print(IRR*100,'%')"
      ],
      "metadata": {
        "colab": {
          "base_uri": "https://localhost:8080/"
        },
        "id": "sXIlVeDMeM2b",
        "outputId": "7dabea70-ee9e-41e9-98d1-3736fffb68bf"
      },
      "execution_count": 2,
      "outputs": [
        {
          "output_type": "stream",
          "name": "stdout",
          "text": [
            "0.10001690594554358 %\n"
          ]
        }
      ]
    }
  ]
}